{
  "nbformat": 4,
  "nbformat_minor": 0,
  "metadata": {
    "colab": {
      "provenance": [],
      "authorship_tag": "ABX9TyN767JvllweDUlPmObEQsyX",
      "include_colab_link": true
    },
    "kernelspec": {
      "name": "python3",
      "display_name": "Python 3"
    },
    "language_info": {
      "name": "python"
    }
  },
  "cells": [
    {
      "cell_type": "markdown",
      "metadata": {
        "id": "view-in-github",
        "colab_type": "text"
      },
      "source": [
        "<a href=\"https://colab.research.google.com/github/sosucat/sbl-optimizer-colab-simple/blob/main/sbl_optimizer_simple_jp.ipynb\" target=\"_parent\"><img src=\"https://colab.research.google.com/assets/colab-badge.svg\" alt=\"Open In Colab\"/></a>"
      ]
    },
    {
      "cell_type": "markdown",
      "source": [
        "# 💡 使用するためにはコピーして下さい\n",
        "\n",
        "このノートは **閲覧のみ**の設定です。\n",
        "ノートを使うためには、まず**コピーの保存**を行ってください:\n",
        "\n",
        "- 左上から:  **`ファイル → ドライブにコピーを保存`**\n",
        "\n",
        "- Googleドライブに作成されたコピーは、編集・実行可能です。\n",
        "\n",
        "- Googleアカウントにサインインする必要があります。\n"
      ],
      "metadata": {
        "id": "GJP0paxZKift"
      }
    },
    {
      "cell_type": "markdown",
      "source": [
        "# 🦙 sbl-optimizer 簡易版: [Swell by Light](https://sites.gatech.edu/futurefeelings/2025/03/07/swell-by-light-tei-25/)の模様最適化ソフト\n",
        "[![PyPI version](https://badge.fury.io/py/sbl-optimizer.svg)](https://badge.fury.io/py/sbl-optimizer)\n",
        "[![sbl-optimizer](https://img.shields.io/badge/sbl--optimizer-black?logo=github)](https://github.com/sosucat/sbl-optimizer)\n",
        "\n",
        "[![Homepage](https://img.shields.io/badge/🔗_ホームベージ-black)](https://sites.gatech.edu/futurefeelings/2025/03/07/swell-by-light-tei-25/)\n",
        "[![Author](https://img.shields.io/badge/著者サイト-black?logo=googlescholar&logoColor=white)](https://sosuke-ichihashi.com/)\n",
        "[![Research paper](https://img.shields.io/badge/研究論文-black?logo=acm)](https://doi.org/10.1145/3689050.3704420)\n",
        "[![Fabrication](https://img.shields.io/badge/🔗_作り方-black)](https://sites.gatech.edu/futurefeelings/2025/07/23/make-puffy-patterns-with-light/)\n",
        "[![Watch fabrication demo on YouTube](https://img.shields.io/badge/作り方-750014?logo=youtube)](https://youtu.be/LomVS_jHxl0?feature=shared)\n",
        "\n",
        "**sbl-optimizer** は、Swell by Lightで画像に忠実なデコボコ模様を作るため、画像の濃淡を修正するソフトです。\n",
        "\n",
        "**本ノートは簡易版**なので、プログラミングの知識がなくても、画像をアップロードしてセルを実行するだけで、最適化された画像を作ることができます。\n",
        "できあがった画像を印刷し、光を当てると、元画像の模様と同じようなデコボコ模様ができあがります。\n",
        "\n",
        "コードの詳細をもっと理解したい方は、上級者向けのColabノートをご覧ください。\n",
        "\n",
        "[![Advanced Colab](https://img.shields.io/badge/上級者向けColabノート-black?logo=googlecolab)](https://colab.research.google.com/drive/1Df32_XEfXZwHhXW8_8GQt3X7Hf300CxG?usp=sharing)\n",
        "\n",
        "---\n",
        "\n",
        "![A printed pattern's shades change as the optimization progresses, and the resulting temperature distribution gets closer to the intended pattern.](https://sites.gatech.edu/futurefeelings/files/2025/03/opt_step.gif)\n",
        "\n",
        "画像の模様の濃淡を最適化することで、画像の模様（左）に近い、均一な温度分布（右）になり、画像に近いきれいなデコボコ模様ができます。\n",
        "この例では、最適化前（iteration: 0）は葉の部分が熱くなりすぎている一方で、茎の部分は加熱不足の状態でした。\n",
        "最適化が進むにつれて、葉の温度は下がり、茎の温度は上昇していき、結果としてより均一な温度分布が実現されています。\n",
        "\n",
        "---\n",
        "\n",
        "## 📑 目次\n",
        "1. [ライブラリのインストール](#scrollTo=vkd63QF86-g3)  \n",
        "2. [設定の変更](#scrollTo=jNyYGd1sY4Z_)  \n",
        "3. [模様画像のアップロード](#scrollTo=6dDTuZ9dRhpV)  \n",
        "4. [最適化の実行 ＆ 結果の表示](#scrollTo=fl5GQtxtfOKb)  \n",
        "5. [デコボコ模様・温度分布・最適化パフォーマンスの表示](#scrollTo=xNyyC1Q6VD5m)  \n",
        "6. [最適化された画像のダウンロード](#scrollTo=FtZUXAMQVb_R)\n",
        "7. [よくある質問 ＆ 問題の解決方法](#scrollTo=-pFXIm8gfsJX)\n",
        "8. [ライセンス ＆ 引用方法](#scrollTo=q2DhdMj88Kec)\n",
        "9. [発展](#scrollTo=af-mVoGqfRIf)\n",
        "\n",
        "---"
      ],
      "metadata": {
        "id": "aId0WYJ07opF"
      }
    },
    {
      "cell_type": "markdown",
      "source": [
        "## 1. ライブラリ・関数の準備\n",
        "> 本ノートで使用するライブラリ・関数を準備します。"
      ],
      "metadata": {
        "id": "vkd63QF86-g3"
      }
    },
    {
      "cell_type": "code",
      "source": [
        "# Install the latest version from PyPI\n",
        "!pip install sbl-optimizer\n",
        "\n",
        "import json\n",
        "from pathlib import Path\n",
        "import matplotlib.pyplot as plt\n",
        "from PIL import Image\n",
        "import importlib.resources as pkg_resources\n",
        "from google.colab import files\n",
        "from IPython.display import IFrame, display, Javascript\n",
        "import base64\n",
        "\n",
        "from sbl_optimizer.config import Config\n",
        "from sbl_optimizer.heat_solver import image_to_heat_pattern, optimize\n",
        "from sbl_optimizer.utils import compute_dims\n",
        "from sbl_optimizer.io import save_pattern, save_plots\n",
        "\n",
        "# Locate the bundled config.json inside the installed package\n",
        "def get_default_config_path():\n",
        "    return pkg_resources.as_file(\n",
        "        pkg_resources.files(\"sbl_optimizer.assets\") / \"config.json\"\n",
        "    )\n",
        "\n",
        "# Visualize the initialized print pattern using matplotlib\n",
        "def visualize_init_pattern(H_init, max_heat):\n",
        "  plt.figure(figsize=(4,4))\n",
        "  plt.imshow(H_init/max_heat, cmap='gray_r', vmin=0.0, vmax=1.0)\n",
        "  plt.axis('off')\n",
        "  plt.title(\"Initial print pattern\")\n",
        "  plt.show()\n",
        "\n",
        "# Visualize the swell pattern and temperature distribution using matplotlib heatmap\n",
        "def display_plots(plots):\n",
        "  fig, (ax_swell, ax_temperature) = plt.subplots(1, 2, figsize=(4 * 2, 4))\n",
        "  img_plot = Image.open(plots[0])\n",
        "  ax_swell.imshow(img_plot)\n",
        "  ax_swell.axis('off')\n",
        "  ax_swell.set_title('Swell Pattern')\n",
        "  img_plot = Image.open(plots[1])\n",
        "  ax_temperature.imshow(img_plot)\n",
        "  ax_temperature.axis('off')\n",
        "  ax_temperature.set_title('Temperature Distribution [C°]')\n",
        "  plt.tight_layout()\n",
        "  plt.show()\n",
        "\n",
        "# Ask user if they want to download the PDF locally\n",
        "def download_pdf(pdf_file):\n",
        "  download_choice = input('Do you want to download the optimized PDF? (y/n): ').strip().lower()\n",
        "  if download_choice == 'y':\n",
        "      files.download(str(pdf_file))\n",
        "\n",
        "# Plot normalized error progression over iterations\n",
        "def plot_error_progression(errors, cfg):\n",
        "  errors_norm = [e * 100 / cfg.resolution for e in errors]\n",
        "  plt.figure(figsize=(5,3))\n",
        "  plt.plot(errors_norm)\n",
        "  plt.xlabel('Iteration')\n",
        "  plt.ylabel('Outlier Cells [%]')\n",
        "  plt.title('Optimization Error Progress')\n",
        "  plt.show()\n",
        "\n",
        "def upload_image():\n",
        "  \"\"\"\n",
        "  Prompt the user to upload an image and save it to the working directory.\n",
        "  Returns:\n",
        "      Path object pointing to the uploaded image file.\n",
        "  \"\"\"\n",
        "  uploaded = files.upload()  # Opens upload dialog\n",
        "  if not uploaded:\n",
        "      raise ValueError(\"No file uploaded.\")\n",
        "  # Get the first uploaded filename\n",
        "  filename = next(iter(uploaded.keys()))\n",
        "  print(f\"Uploaded file: {filename}\")\n",
        "  return Path(filename)\n",
        "\n",
        "\n",
        "# Set the maximum height of the output\n",
        "display(Javascript('google.colab.output.setIframeHeight(0, true, {maxHeight: 100})'))"
      ],
      "metadata": {
        "id": "PNqYaBUE67sz"
      },
      "execution_count": null,
      "outputs": []
    },
    {
      "cell_type": "markdown",
      "source": [
        "##2. ⚙️ 設定の変更\n",
        "\n",
        "| パラメータ | 種類 | デフォルト | 説明 |\n",
        "|-----|------|---------|-------------|\n",
        "| `swell_temperature` | float | 145 [C°] | 膨張温度。使用する膨張ペーストに記載されている、ペーストが膨らみ始める温度に応じて調整してください。 |\n",
        "| `light_power`       | float | 100.0 [W] |光出力。使用するライトの出力に応じて調節してください。 |\n",
        "| `light_diameter`    | float | 0.06 [m] | 紙面に当たる光の直径。紙に光を当てて加熱する際に、光が当たる範囲に応じて調整してください。 |\n",
        "| `alpha`             | float | 5e-07 [m²/s] | 紙の熱流量。厚紙や極端に薄い紙などを使用する際に調節してください。 |\n",
        "| `verbose`           | int   | 1 | ログ出力の有無。 0：ログなし。 1: ログあり。 |\n",
        "| `resolution`        | int   | 120000 | 熱シミュレーションの解像度。解像度を下げれば、最適化速度が上がる。解像度を上げれば、より画像に忠実なデコボコ模様になる。 |\n",
        "\n",
        "> まずはデフォルト値のまま使ってみて、思うようなデコボコ模様ができなければ、変更するのがよいと思います。使用する材料に応じて、以下のセル内の数値を直接編集してください。\n",
        "\n"
      ],
      "metadata": {
        "id": "jNyYGd1sY4Z_"
      }
    },
    {
      "cell_type": "code",
      "source": [
        "cfg_contents = {\n",
        "    \"swell_temperature\": 140.0,\n",
        "    \"light_power\": 120.0,\n",
        "    \"light_diameter\": 0.08,\n",
        "    \"alpha\": 5e-07,\n",
        "    \"verbose\": 1,\n",
        "    \"resolution\": 120000\n",
        "}\n",
        "\n",
        "# Write to a JSON file in the notebook workspace\n",
        "config_path = Path(\"custom_config.json\")\n",
        "with open(config_path, \"w\") as f:\n",
        "    json.dump(cfg_contents, f, indent=4)\n",
        "# Load and instantiate Config from this custom file\n",
        "cfg = Config.from_file(config_path)"
      ],
      "metadata": {
        "id": "dt6WqPYlY2Gq"
      },
      "execution_count": null,
      "outputs": []
    },
    {
      "cell_type": "markdown",
      "source": [
        "## 3. 📁 模様画像のアップロード\n",
        "> パソコン上からJPGかPNGフォーマットの模様画像をアップロードしてください。\n",
        "「ファイルを選択」 をクリックして画像を選ぶと、その画像が下に表示されます。"
      ],
      "metadata": {
        "id": "6dDTuZ9dRhpV"
      }
    },
    {
      "cell_type": "code",
      "source": [
        "img_path = upload_image()\n",
        "img = Image.open(img_path)\n",
        "mask, H_init, max_heat = image_to_heat_pattern(img_path, cfg)\n",
        "visualize_init_pattern(H_init, max_heat)"
      ],
      "metadata": {
        "id": "NMJGdLVCPVN6"
      },
      "execution_count": null,
      "outputs": []
    },
    {
      "cell_type": "markdown",
      "source": [
        "##4. 🔁 最適化の実行 ＆ 結果の表示\n",
        "> 熱伝導のせいで期待通りの温度にならないところを減らすため、模様の濃淡を最適化します。シミュレーションは、[ここ](#scrollTo=jNyYGd1sY4Z_)で設定したパラメータに基づいて行われます。ここでの「最適化」とは、光による加熱で浮き出るデコボコ模様が、元の模様と一致するようにすることを意味します。最適化後、プレビューが表示されます。"
      ],
      "metadata": {
        "id": "fl5GQtxtfOKb"
      }
    },
    {
      "cell_type": "code",
      "source": [
        "%%time\n",
        "# Set the maximum height of the output\n",
        "display(Javascript('google.colab.output.setIframeHeight(0, true, {maxHeight: 500})'))\n",
        "\n",
        "# Compute physical dimensions (for logging)\n",
        "img_w, img_h, phys_w, phys_h = compute_dims(Image.open(img_path))\n",
        "\n",
        "# Optimize\n",
        "T_best, H_best, errors = optimize(mask, H_init, max_heat, img_w, img_h, phys_w, phys_h, cfg)\n",
        "print(f\"Optimization completed in {len(errors)} iterations.\")\n",
        "\n",
        "# Save pattern PDF\n",
        "pattern_pdf = save_pattern(img_path, H_best, max_heat)\n",
        "print(f\"Saved optimized pattern to: {pattern_pdf}\")\n",
        "\n",
        "# Display the generated PDF inline in Colab\n",
        "with open(pattern_pdf, \"rb\") as pdf_file:\n",
        "    encoded_pdf = base64.b64encode(pdf_file.read()).decode('utf-8')\n",
        "IFrame(f\"data:application/pdf;base64,{encoded_pdf}\", width=400, height=400)"
      ],
      "metadata": {
        "id": "P3kkQFAj7RB6"
      },
      "execution_count": null,
      "outputs": []
    },
    {
      "cell_type": "markdown",
      "source": [
        "##5. 👀 デコボコ模様・温度分布・最適化パフォーマンスの表示\n",
        "\n",
        "> 予想されるデコボコ模様と温度分布を確認できます。また、温度分布がどのように改善されたかも確認できます。"
      ],
      "metadata": {
        "id": "xNyyC1Q6VD5m"
      }
    },
    {
      "cell_type": "code",
      "source": [
        "# Save and display plots with matplotlib\n",
        "plots = save_plots(T_best, phys_w, phys_h, img_path, dpi=72)\n",
        "display_plots(plots)\n",
        "plot_error_progression(errors, cfg)"
      ],
      "metadata": {
        "id": "dhKY6v88TIrX"
      },
      "execution_count": null,
      "outputs": []
    },
    {
      "cell_type": "markdown",
      "source": [
        "##6. 💾 最適化された画像のダウンロード\n",
        "\n",
        ">結果に満足であれば、最適化された模様画像をダウンロードできます。印刷して、デコボコ模様を作ってみましょう！"
      ],
      "metadata": {
        "id": "FtZUXAMQVb_R"
      }
    },
    {
      "cell_type": "code",
      "source": [
        "download_pdf(pattern_pdf)"
      ],
      "metadata": {
        "id": "qxwi9biBUG51"
      },
      "execution_count": null,
      "outputs": []
    },
    {
      "cell_type": "markdown",
      "source": [
        "## 7. よくある質問 ＆ 問題の解決方法"
      ],
      "metadata": {
        "id": "-pFXIm8gfsJX"
      }
    },
    {
      "cell_type": "markdown",
      "source": [
        "Q: どのファイル形式に対応していますか？\n",
        "A: JPG または PNG 画像をアップロードできます。\n",
        "\n",
        "Q: 画像がアップロードできません。\n",
        "A: ファイルを選択 ボタンをクリックして、有効な画像ファイルを選んでください。うまくいかない場合はセルを再実行してください。\n",
        "\n",
        "Q: 最適化中にエラーが出ました。\n",
        "A: ファイルが大きすぎないか確認してください。より小さな画像を使い、再実行してみてください。\n",
        "\n",
        "Q: 最適化にはどのくらい時間がかかりますか？\n",
        "A: Colab 上では、1～2分ほどかかる場合があります。\n",
        "\n",
        "ヒント： うまく動作しない場合は、ノートブックを再起動（「ランタイム」→「ランタイムを再起動」）し、最初から再実行してみてください。\n",
        "\n",
        "以上で問題が解決しない場合、以下からお問い合わせください。\n",
        "\n",
        "[![@RefreshSource](https://img.shields.io/badge/@RefreshSource-black?logo=x&logoColor=white)](https://x.com/refreshsource)\n",
        "[![Email](https://img.shields.io/badge/sosuke.ichihashi@gmail.com-black?logo=gmail&logoColor=white)](mailto:sosuke.ichihashi@gmail.com)"
      ],
      "metadata": {
        "id": "hrieCfKcBNBq"
      }
    },
    {
      "cell_type": "markdown",
      "source": [
        "## 8. ライセンス ＆ 引用方法\n",
        "###ライセンス\n",
        ">本プロジェクトは、[MITライセンス](https://github.com/sosucat/sbl-optimizer-colab/blob/main/LICENSE)のもとで公開されています.\n",
        "\n",
        "\n",
        "###開発者\n",
        ">市橋 爽介\n",
        "\n",
        "> [![市橋 爽介](https://img.shields.io/badge/市橋のサイト-black?logo=googlescholar&logoColor=white)](https://sosuke-ichihashi.com/)\n",
        "[![@sosucat](https://img.shields.io/badge/@sosucat-black?logo=github&logoColor=white)](https://github.com/sosucat)\n",
        "[![@RefreshSource](https://img.shields.io/badge/@RefreshSource-black?logo=x&logoColor=white)](https://x.com/refreshsource)\n",
        "\n",
        "\n",
        "###引用方法\n",
        "> 研究やプロジェクトで **sbl-optimizer** を使用される場合は、以下を引用してください:\n",
        "* Sosuke Ichihashi, Noura Howell, and HyunJoo Oh. 2025.\\\n",
        "Swell by Light: An Approachable Technique for Freeform Raised Textures. \\\n",
        "In Proceedings of the Nineteenth International Conference on Tangible, Embedded, and Embodied Interaction (TEI '25). Association for Computing Machinery, New York, NY, USA, Article 45, 1–16. https://doi.org/10.1145/3689050.3704420\n",
        "```bibtex\n",
        "@inproceedings{10.1145/3689050.3704420,\n",
        "author = {Ichihashi, Sosuke and Howell, Noura and Oh, HyunJoo},\n",
        "title = {Swell by Light: An Approachable Technique for Freeform Raised Textures},\n",
        "year = {2025},\n",
        "isbn = {9798400711978},\n",
        "publisher = {Association for Computing Machinery},\n",
        "address = {New York, NY, USA},\n",
        "url = {https://doi.org/10.1145/3689050.3704420},\n",
        "doi = {10.1145/3689050.3704420},\n",
        "booktitle = {Proceedings of the Nineteenth International Conference on Tangible, Embedded, and Embodied Interaction},\n",
        "articleno = {45},\n",
        "numpages = {16},\n",
        "keywords = {2.5D fabrication, Personal fabrication, tactile rendering},\n",
        "location = {Bordeaux / Talence, France},\n",
        "series = {TEI '25}\n",
        "}\n",
        "```"
      ],
      "metadata": {
        "id": "q2DhdMj88Kec"
      }
    },
    {
      "cell_type": "markdown",
      "source": [
        "## 9. 発展\n",
        "**もっと深く知りたい人は、以下をどうぞ！**\n",
        "\n",
        "\n",
        "🎨 **デコボコ模様の作り方**\n",
        "\n",
        "> ウェブサイトと動画で、デコボコ模様の作り方を紹介しています。\n",
        "\n",
        ">[![Fabrication](https://img.shields.io/badge/🔗_作り方-black)](https://sites.gatech.edu/futurefeelings/2025/07/23/make-puffy-patterns-with-light/)\n",
        "[![Watch fabrication demo on YouTube](https://img.shields.io/badge/作り方-750014?logo=youtube)](https://youtu.be/LomVS_jHxl0?feature=shared)\n",
        "\n",
        "\n",
        "🔗 **ホームページ**\n",
        "\n",
        "> Swell by Lightのホームページで、詳細や応用例を紹介しています。\n",
        "\n",
        ">[![Project page](https://img.shields.io/badge/🔗_ホームページ-black)](https://sites.gatech.edu/futurefeelings/2025/03/07/swell-by-light-tei-25/)\n",
        "\n",
        "\n",
        "📄 **研究論文**\n",
        "\n",
        "> Swell by Lightの理論や関連研究、応用例については、論文をご参照ください。\n",
        "\n",
        ">[![Research paper](https://img.shields.io/badge/研究論文-black?logo=acm)](https://doi.org/10.1145/3689050.3704420)\n",
        "\n",
        "\n",
        "\n",
        "🐐 **上級者向けColabノート**\n",
        "\n",
        "> 本ノートで使用したコードの詳細を理解したい方は、こちらをご覧ください。\n",
        "\n",
        ">[![Advanced Colab](https://img.shields.io/badge/上級者向けColabノート-black?logo=googlecolab)](https://colab.research.google.com/drive/1Df32_XEfXZwHhXW8_8GQt3X7Hf300CxG?usp=sharing)\n",
        "\n",
        "\n",
        "\n",
        "👩‍💻 **ローカル実行用のコマンドラインツール**\n",
        "\n",
        "> PyPI や GitHub にあるチュートリアルを見て、お使いのパソコン上で sbl-optimizer をより簡単に使ってみましょう。\n",
        "\n",
        ">[![PyPI version](https://badge.fury.io/py/sbl-optimizer.svg)](https://badge.fury.io/py/sbl-optimizer)\n",
        "[![GitHub](https://img.shields.io/badge/sbl--optimizer-black?logo=github)](https://github.com/sosucat/sbl-optimizer)\n",
        "\n",
        "\n",
        "👨‍💻 **ソースコードと問題報告**\n",
        "\n",
        "> 問題の報告や貢献、最新の開発状況の確認には、ぜひ GitHub リポをご覧ください。\n",
        "\n",
        ">[![GitHub sbl-optimizer](https://img.shields.io/badge/sbl--optimizer-black?logo=github)](https://github.com/sosucat/sbl-optimizer)\n",
        "[![GitHub sbl-optimizer-colab-simple](https://img.shields.io/badge/このColabノート-black?logo=github)](https://github.com/sosucat/sbl-optimizer-colab-simple)\n",
        "\n",
        "\n",
        "🕵️‍♂️ **著者のサイト**\n",
        "\n",
        "> 市橋 爽介の他の研究もぜひご覧あれ！\n",
        "\n",
        ">[![著者のサイト](https://img.shields.io/badge/市橋のサイト-black?logo=googlescholar&logoColor=white)](https://sosuke-ichihashi.com/)\n",
        "\n",
        "\n",
        "*よいモノづくりを！*"
      ],
      "metadata": {
        "id": "af-mVoGqfRIf"
      }
    },
    {
      "cell_type": "code",
      "source": [],
      "metadata": {
        "id": "TRt1pZ4vFofd"
      },
      "execution_count": null,
      "outputs": []
    }
  ]
}