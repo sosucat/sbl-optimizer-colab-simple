{
  "nbformat": 4,
  "nbformat_minor": 0,
  "metadata": {
    "colab": {
      "provenance": [],
      "collapsed_sections": [
        "vkd63QF86-g3",
        "jNyYGd1sY4Z_",
        "6dDTuZ9dRhpV",
        "fl5GQtxtfOKb",
        "xNyyC1Q6VD5m",
        "FtZUXAMQVb_R",
        "-pFXIm8gfsJX",
        "q2DhdMj88Kec",
        "af-mVoGqfRIf"
      ],
      "authorship_tag": "ABX9TyP+Lj82exJzjAOLGDoagjMZ",
      "include_colab_link": true
    },
    "kernelspec": {
      "name": "python3",
      "display_name": "Python 3"
    },
    "language_info": {
      "name": "python"
    }
  },
  "cells": [
    {
      "cell_type": "markdown",
      "metadata": {
        "id": "view-in-github",
        "colab_type": "text"
      },
      "source": [
        "<a href=\"https://colab.research.google.com/github/sosucat/sbl-optimizer-colab-simple/blob/main/sbl_optimizer_light.ipynb\" target=\"_parent\"><img src=\"https://colab.research.google.com/assets/colab-badge.svg\" alt=\"Open In Colab\"/></a>"
      ]
    },
    {
      "cell_type": "markdown",
      "source": [
        "# 💡 Make a Copy to Edit\n",
        "\n",
        "This notebook is **view-only**.  \n",
        "To use it, you’ll need to **make your own copy**:\n",
        "\n",
        "- In the top-left corner:  **`File → Save a copy in Drive`**\n",
        "\n",
        "- Your copy will be saved to your Google Drive, where you can edit, run, and even share your version freely.\n",
        "\n",
        "- You’ll need to be signed into a Google account.\n"
      ],
      "metadata": {
        "id": "GJP0paxZKift"
      }
    },
    {
      "cell_type": "markdown",
      "source": [
        "# **``🦙 sbl-optimizer light``**<br> Print Pattern Optimizer for [Swell by Light](https://sites.gatech.edu/futurefeelings/2025/03/07/swell-by-light-tei-25/)\n",
        "[![PyPI version](https://badge.fury.io/py/sbl-optimizer.svg)](https://badge.fury.io/py/sbl-optimizer)\n",
        "[![sbl-optimizer](https://img.shields.io/badge/sbl--optimizer-black?logo=github)](https://github.com/sosucat/sbl-optimizer)\n",
        "\n",
        "[![Homepage](https://img.shields.io/badge/🔗_Homepage-black)](https://sites.gatech.edu/futurefeelings/2025/03/07/swell-by-light-tei-25/)\n",
        "[![Author](https://img.shields.io/badge/Author-black?logo=googlescholar&logoColor=white)](https://sosuke-ichihashi.com/)\n",
        "[![Research paper](https://img.shields.io/badge/Research_Paper-black?logo=acm)](https://doi.org/10.1145/3689050.3704420)\n",
        "[![Fabrication](https://img.shields.io/badge/🔗_Fabrication-black)](https://sites.gatech.edu/futurefeelings/2025/07/23/make-puffy-patterns-with-light/)\n",
        "[![Watch fabrication demo on YouTube](https://img.shields.io/badge/Fabrication-750014?logo=youtube)](https://youtu.be/LomVS_jHxl0?feature=shared)\n",
        "\n",
        "Welcome to **sbl-optimizer**, a tool optimizing your pattern images for 2.5D texture fabrication!  \n",
        "**This notebook is a simplified version** of the full walk-through. Anyone—even with zero coding experience—can upload a picture, run cells, and get an optimized pattern you can print, shine light, and watch pop up like magic.\n",
        "If you want to understand the codes in detail, please check out the advanced Colab notebook:\n",
        "\n",
        "[![Advanced Colab](https://img.shields.io/badge/Advanced_Colab_Notebook-black?logo=googlecolab)](https://colab.research.google.com/drive/1KX5W0MG34zS_qX7RqeMLizrkhlWp8ojh?usp=sharing)\n",
        "\n",
        "---\n",
        "\n",
        "![A printed pattern's shades change as the optimization progresses, and the resulting temperature distribution gets closer to the intended pattern.](https://sites.gatech.edu/futurefeelings/files/2025/03/opt_step.gif)\n",
        "\n",
        "Optimization of the printed pattern results in a uniform temperature distribution (right) closely matching the original pattern (left). In this example, the leaves are over-heated while the stems are under-heated before the optimization.\n",
        "As the iteration number goes up, the leaves' temperature goes down while the stems' goes up, resulting in a more uniform temperature distribution.\n",
        "\n",
        "---\n",
        "\n",
        "## 📑 Table of Contents\n",
        "1. [Setup & Installation](#scrollTo=vkd63QF86-g3)  \n",
        "2. [Customize Settings](#scrollTo=jNyYGd1sY4Z_)  \n",
        "3. [Upload Your Pattern](#scrollTo=6dDTuZ9dRhpV)  \n",
        "4. [Run Optimization & Preview Result](#scrollTo=fl5GQtxtfOKb)  \n",
        "5. [Show Swell Pattern & Temperature Distribution & Optimization Performance](#scrollTo=xNyyC1Q6VD5m)  \n",
        "6. [Download Optimized Pattern](#scrollTo=FtZUXAMQVb_R)\n",
        "7. [Troubleshooting & FAQ](#scrollTo=-pFXIm8gfsJX)\n",
        "8. [Credits & License](#scrollTo=q2DhdMj88Kec)\n",
        "9. [Next Steps](#scrollTo=af-mVoGqfRIf)\n",
        "\n",
        "---"
      ],
      "metadata": {
        "id": "aId0WYJ07opF"
      }
    },
    {
      "cell_type": "markdown",
      "source": [
        "## 1. Setup & Installation\n",
        "> We install the package, libraries, and functions."
      ],
      "metadata": {
        "id": "vkd63QF86-g3"
      }
    },
    {
      "cell_type": "code",
      "source": [
        "# Install the latest version from PyPI\n",
        "!pip install sbl-optimizer\n",
        "\n",
        "import json\n",
        "from pathlib import Path\n",
        "import matplotlib.pyplot as plt\n",
        "from PIL import Image\n",
        "import importlib.resources as pkg_resources\n",
        "from google.colab import files\n",
        "from IPython.display import IFrame, display, Javascript\n",
        "import base64\n",
        "\n",
        "from sbl_optimizer.config import Config\n",
        "from sbl_optimizer.heat_solver import image_to_heat_pattern, optimize\n",
        "from sbl_optimizer.utils import compute_dims\n",
        "from sbl_optimizer.io import save_pattern, save_plots\n",
        "\n",
        "# Locate the bundled config.json inside the installed package\n",
        "def get_default_config_path():\n",
        "    return pkg_resources.as_file(\n",
        "        pkg_resources.files(\"sbl_optimizer.assets\") / \"config.json\"\n",
        "    )\n",
        "\n",
        "# Visualize the initialized print pattern using matplotlib\n",
        "def visualize_init_pattern(H_init, max_heat):\n",
        "  plt.figure(figsize=(4,4))\n",
        "  plt.imshow(H_init/max_heat, cmap='gray_r', vmin=0.0, vmax=1.0)\n",
        "  plt.axis('off')\n",
        "  plt.title(\"Initial print pattern\")\n",
        "  plt.show()\n",
        "\n",
        "# Visualize the swell pattern and temperature distribution using matplotlib heatmap\n",
        "def display_plots(plots):\n",
        "  fig, (ax_swell, ax_temperature) = plt.subplots(1, 2, figsize=(4 * 2, 4))\n",
        "  img_plot = Image.open(plots[0])\n",
        "  ax_swell.imshow(img_plot)\n",
        "  ax_swell.axis('off')\n",
        "  ax_swell.set_title('Swell Pattern')\n",
        "  img_plot = Image.open(plots[1])\n",
        "  ax_temperature.imshow(img_plot)\n",
        "  ax_temperature.axis('off')\n",
        "  ax_temperature.set_title('Temperature Distribution [C°]')\n",
        "  plt.tight_layout()\n",
        "  plt.show()\n",
        "\n",
        "# Ask user if they want to download the PDF locally\n",
        "def download_pdf(pdf_file):\n",
        "  download_choice = input('Do you want to download the optimized PDF? (y/n): ').strip().lower()\n",
        "  if download_choice == 'y':\n",
        "      files.download(str(pdf_file))\n",
        "\n",
        "# Plot normalized error progression over iterations\n",
        "def plot_error_progression(errors, cfg):\n",
        "  errors_norm = [e * 100 / cfg.resolution for e in errors]\n",
        "  plt.figure(figsize=(5,3))\n",
        "  plt.plot(errors_norm)\n",
        "  plt.xlabel('Iteration')\n",
        "  plt.ylabel('Outlier Cells [%]')\n",
        "  plt.title('Optimization Error Progress')\n",
        "  plt.show()\n",
        "\n",
        "def upload_image():\n",
        "  \"\"\"\n",
        "  Prompt the user to upload an image and save it to the working directory.\n",
        "  Returns:\n",
        "      Path object pointing to the uploaded image file.\n",
        "  \"\"\"\n",
        "  uploaded = files.upload()  # Opens upload dialog\n",
        "  if not uploaded:\n",
        "      raise ValueError(\"No file uploaded.\")\n",
        "  # Get the first uploaded filename\n",
        "  filename = next(iter(uploaded.keys()))\n",
        "  print(f\"Uploaded file: {filename}\")\n",
        "  return Path(filename)\n",
        "\n",
        "\n",
        "# Set the maximum height of the output\n",
        "display(Javascript('google.colab.output.setIframeHeight(0, true, {maxHeight: 100})'))"
      ],
      "metadata": {
        "id": "PNqYaBUE67sz"
      },
      "execution_count": null,
      "outputs": []
    },
    {
      "cell_type": "markdown",
      "source": [
        "##2. ⚙️ Customize Settings\n",
        "\n",
        "| Key | Type | Default | Description |\n",
        "|-----|------|---------|-------------|\n",
        "| `swell_temperature` | float | 145 [C°] | Target swelling temperature. Adjust this based on the swell temperature of the paste you have. |\n",
        "| `light_power`       | float | 100.0 [W] |Light source power. Adjust this according to your light's power. |\n",
        "| `light_diameter`    | float | 0.06 [m] | Diameter of the light circle on paper (m). Adjust based on the light circle diameter during heating. |\n",
        "| `alpha`             | float | 5e-07 [m²/s] | Thermal diffusivity of paper. |\n",
        "| `verbose`           | int   | 1 | Bool enabling logging. 0: turned off; 1: turned on. |\n",
        "| `resolution`        | int   | 120000 | Number of cells paper is divided into in thermal simulations. Reduce this for faster optimization. Increase for a finer result. |\n",
        "\n",
        "> Customize the simulation settings according to your setup. Change the numbers in the following cell:\n",
        "\n"
      ],
      "metadata": {
        "id": "jNyYGd1sY4Z_"
      }
    },
    {
      "cell_type": "code",
      "source": [
        "cfg_contents = {\n",
        "    \"swell_temperature\": 140.0,\n",
        "    \"light_power\": 120.0,\n",
        "    \"light_diameter\": 0.08,\n",
        "    \"alpha\": 5e-07,\n",
        "    \"verbose\": 1,\n",
        "    \"resolution\": 120000\n",
        "}\n",
        "\n",
        "# Write to a JSON file in the notebook workspace\n",
        "config_path = Path(\"custom_config.json\")\n",
        "with open(config_path, \"w\") as f:\n",
        "    json.dump(cfg_contents, f, indent=4)\n",
        "# Load and instantiate Config from this custom file\n",
        "cfg = Config.from_file(config_path)"
      ],
      "metadata": {
        "id": "dt6WqPYlY2Gq"
      },
      "execution_count": null,
      "outputs": []
    },
    {
      "cell_type": "markdown",
      "source": [
        "## 3. 📁 Upload Your Pattern  \n",
        "> Select JPG or PNG image from your computer. Once you click **Choose Files** and pick your image, it will appear below."
      ],
      "metadata": {
        "id": "6dDTuZ9dRhpV"
      }
    },
    {
      "cell_type": "code",
      "source": [
        "img_path = upload_image()\n",
        "img = Image.open(img_path)\n",
        "mask, H_init, max_heat = image_to_heat_pattern(img_path, cfg)\n",
        "visualize_init_pattern(H_init, max_heat)"
      ],
      "metadata": {
        "id": "NMJGdLVCPVN6"
      },
      "execution_count": null,
      "outputs": []
    },
    {
      "cell_type": "markdown",
      "source": [
        "##4. 🔁 Run Optimization and Preview Result\n",
        "> This process adjusts your image into a print-ready pattern that compensates for heat spread. The simulation is based on the custom parameters you set [here](#scrollTo=jNyYGd1sY4Z_). \"Optimization\" here means transforming darker/lighter areas so that after heating, the texture matches your original design. This then embeds a preview right here so you can inspect the layout and dark/light regions before downloading."
      ],
      "metadata": {
        "id": "fl5GQtxtfOKb"
      }
    },
    {
      "cell_type": "code",
      "source": [
        "%%time\n",
        "# Set the maximum height of the output\n",
        "display(Javascript('google.colab.output.setIframeHeight(0, true, {maxHeight: 500})'))\n",
        "\n",
        "# Compute physical dimensions (for logging)\n",
        "img_w, img_h, phys_w, phys_h = compute_dims(Image.open(img_path))\n",
        "\n",
        "# Optimize\n",
        "T_best, H_best, errors = optimize(mask, H_init, max_heat, img_w, img_h, phys_w, phys_h, cfg)\n",
        "print(f\"Optimization completed in {len(errors)} iterations.\")\n",
        "\n",
        "# Save pattern PDF\n",
        "pattern_pdf = save_pattern(img_path, H_best, max_heat)\n",
        "print(f\"Saved optimized pattern to: {pattern_pdf}\")\n",
        "\n",
        "# Display the generated PDF inline in Colab\n",
        "with open(pattern_pdf, \"rb\") as pdf_file:\n",
        "    encoded_pdf = base64.b64encode(pdf_file.read()).decode('utf-8')\n",
        "IFrame(f\"data:application/pdf;base64,{encoded_pdf}\", width=400, height=400)"
      ],
      "metadata": {
        "id": "P3kkQFAj7RB6"
      },
      "execution_count": null,
      "outputs": []
    },
    {
      "cell_type": "markdown",
      "source": [
        "##5. 👀 Show Swell Pattern & Temperature Distribution & Optimization Performance\n",
        "\n",
        "> See side-by-side visualizations of the final raised texture (swell pattern) and temperature across the sheet (temperature distribution), as well as a graph showing how many iterations the optimizer ran and how it improved the pattern."
      ],
      "metadata": {
        "id": "xNyyC1Q6VD5m"
      }
    },
    {
      "cell_type": "code",
      "source": [
        "# Save and display plots with matplotlib\n",
        "plots = save_plots(T_best, phys_w, phys_h, img_path, dpi=72)\n",
        "display_plots(plots)\n",
        "plot_error_progression(errors, cfg)"
      ],
      "metadata": {
        "id": "dhKY6v88TIrX"
      },
      "execution_count": null,
      "outputs": []
    },
    {
      "cell_type": "markdown",
      "source": [
        "##6. 💾 Download Optimized Pattern\n",
        "\n",
        ">Finally, grab the PDF file you just created. You’re ready to print and experiment!"
      ],
      "metadata": {
        "id": "FtZUXAMQVb_R"
      }
    },
    {
      "cell_type": "code",
      "source": [
        "download_pdf(pattern_pdf)"
      ],
      "metadata": {
        "id": "qxwi9biBUG51"
      },
      "execution_count": null,
      "outputs": []
    },
    {
      "cell_type": "markdown",
      "source": [
        "## 7. Troubleshooting & FAQ"
      ],
      "metadata": {
        "id": "-pFXIm8gfsJX"
      }
    },
    {
      "cell_type": "markdown",
      "source": [
        "**Q: What file types work?**  \n",
        "A: You can upload JPG or PNG images.\n",
        "\n",
        "**Q: My image didn’t upload.**  \n",
        "A: Make sure you click the **Choose Files** button and pick a valid image. Re-run the cell if it fails.\n",
        "\n",
        "**Q: I see an error during optimization.**  \n",
        "A: Check that your file is not too large. Try a smaller image and re-run.\n",
        "\n",
        "**Q: How long does the optimization take?**  \n",
        "A: On Colab, it may take a minute or two.\n",
        "\n",
        "**Tip:** If something goes wrong, restart the notebook (Runtime → Restart runtime) and re-run from the top.\n",
        "\n",
        "Still having trouble? Contact\n",
        "\n",
        "[![@RefreshSource](https://img.shields.io/badge/@RefreshSource-black?logo=x&logoColor=white)](https://x.com/refreshsource)\n",
        "[![Email](https://img.shields.io/badge/sosuke.ichihashi@gmail.com-black?logo=gmail&logoColor=white)](mailto:sosuke.ichihashi@gmail.com)"
      ],
      "metadata": {
        "id": "hrieCfKcBNBq"
      }
    },
    {
      "cell_type": "markdown",
      "source": [
        "## 8. Credits & License"
      ],
      "metadata": {
        "id": "q2DhdMj88Kec"
      }
    },
    {
      "cell_type": "markdown",
      "source": [
        "###License\n",
        ">This project is licensed under the [MIT License](https://github.com/sosucat/sbl-optimizer-colab-simple/blob/main/LICENSE).\n",
        "\n",
        "\n",
        "###Developer\n",
        ">Sosuke Ichihashi\n",
        "\n",
        "> [![Sosuke Ichihashi](https://img.shields.io/badge/Sosuke_Ichihashi-black?logo=googlescholar&logoColor=white)](https://sosuke-ichihashi.com/)\n",
        "[![@sosucat](https://img.shields.io/badge/@sosucat-black?logo=github&logoColor=white)](https://github.com/sosucat)\n",
        "[![@RefreshSource](https://img.shields.io/badge/@RefreshSource-black?logo=x&logoColor=white)](https://x.com/refreshsource)\n",
        "\n",
        "\n",
        "###Cite this work\n",
        "> If you use **sbl-optimizer** in your research or projects, please cite:\n",
        "* Sosuke Ichihashi, Noura Howell, and HyunJoo Oh. 2025.\\\n",
        "Swell by Light: An Approachable Technique for Freeform Raised Textures. \\\n",
        "In Proceedings of the Nineteenth International Conference on Tangible, Embedded, and Embodied Interaction (TEI '25). Association for Computing Machinery, New York, NY, USA, Article 45, 1–16. https://doi.org/10.1145/3689050.3704420\n",
        "```bibtex\n",
        "@inproceedings{10.1145/3689050.3704420,\n",
        "author = {Ichihashi, Sosuke and Howell, Noura and Oh, HyunJoo},\n",
        "title = {Swell by Light: An Approachable Technique for Freeform Raised Textures},\n",
        "year = {2025},\n",
        "isbn = {9798400711978},\n",
        "publisher = {Association for Computing Machinery},\n",
        "address = {New York, NY, USA},\n",
        "url = {https://doi.org/10.1145/3689050.3704420},\n",
        "doi = {10.1145/3689050.3704420},\n",
        "booktitle = {Proceedings of the Nineteenth International Conference on Tangible, Embedded, and Embodied Interaction},\n",
        "articleno = {45},\n",
        "numpages = {16},\n",
        "keywords = {2.5D fabrication, Personal fabrication, tactile rendering},\n",
        "location = {Bordeaux / Talence, France},\n",
        "series = {TEI '25}\n",
        "}\n",
        "```"
      ],
      "metadata": {
        "id": "xZFOe1a-d65b"
      }
    },
    {
      "cell_type": "markdown",
      "source": [
        "## 9. Next Steps"
      ],
      "metadata": {
        "id": "af-mVoGqfRIf"
      }
    },
    {
      "cell_type": "markdown",
      "source": [
        "**Ready for more? Here’s where to explore further:**\n",
        "\n",
        "\n",
        "🎨 **Fabrication Tutorial**\n",
        "\n",
        "> See the step-by-step fabrication tutorial on our website and YouTube.\n",
        "\n",
        ">[![Fabrication](https://img.shields.io/badge/🔗_Fabrication-black)](https://sites.gatech.edu/futurefeelings/2025/07/23/make-puffy-patterns-with-light/)\n",
        "[![Watch fabrication demo on YouTube](https://img.shields.io/badge/Fabrication-750014?logo=youtube)](https://youtu.be/LomVS_jHxl0?feature=shared)\n",
        "\n",
        "\n",
        "🔗 **Project Page**\n",
        "\n",
        "> Read more about the project and example applications on our project page.\n",
        "\n",
        ">[![Project page](https://img.shields.io/badge/🔗_Project_Page-black)](https://sites.gatech.edu/futurefeelings/2025/03/07/swell-by-light-tei-25/)\n",
        "\n",
        "\n",
        "📄 **Research Paper**\n",
        "\n",
        "> Explore various application examples of Swell by Light and learn the theory and related work behind it in our paper.\n",
        "\n",
        ">[![Research paper](https://img.shields.io/badge/Research_Paper-black?logo=acm)](https://doi.org/10.1145/3689050.3704420)\n",
        "\n",
        "\n",
        "\n",
        "🐐 **Advanced Colab Notebook**\n",
        "\n",
        "> Check out this advanced version to understand the codes in detail.\n",
        "\n",
        ">[![Advanced Colab](https://img.shields.io/badge/Advanced_Colab_Notebook-black?logo=googlecolab)](https://colab.research.google.com/drive/1KX5W0MG34zS_qX7RqeMLizrkhlWp8ojh?usp=sharing)\n",
        "\n",
        "\n",
        "\n",
        "👩‍💻 **Local Command Line Interface**\n",
        "\n",
        "> Follow the tutorials on PyPI or GitHub to use sbl-optimizer in a simpler way on your machine.\n",
        "\n",
        ">[![PyPI version](https://badge.fury.io/py/sbl-optimizer.svg)](https://badge.fury.io/py/sbl-optimizer)\n",
        "[![GitHub](https://img.shields.io/badge/sbl--optimizer-black?logo=github)](https://github.com/sosucat/sbl-optimizer)\n",
        "\n",
        "\n",
        "👨‍💻 **Source Code & Issues**\n",
        "\n",
        "> Visit our GitHub repository to report issues, contribute, or see the latest developments.\n",
        "\n",
        ">[![GitHub sbl-optimizer](https://img.shields.io/badge/sbl--optimizer-black?logo=github)](https://github.com/sosucat/sbl-optimizer)\n",
        "[![GitHub sbl-optimizer-colab-simple](https://img.shields.io/badge/This_Notebook-black?logo=github)](https://github.com/sosucat/sbl-optimizer-colab-simple)\n",
        "\n",
        "\n",
        "🕵️‍♂️ **Author’s Website**\n",
        "\n",
        "> Discover more work by Sosuke Ichihashi.\n",
        "\n",
        ">[![Author](https://img.shields.io/badge/Author-black?logo=googlescholar&logoColor=white)](https://sosuke-ichihashi.com/)\n",
        "\n",
        "\n",
        "*Happy fabricating!*"
      ],
      "metadata": {
        "id": "xlRqrJVYd0RX"
      }
    }
  ]
}